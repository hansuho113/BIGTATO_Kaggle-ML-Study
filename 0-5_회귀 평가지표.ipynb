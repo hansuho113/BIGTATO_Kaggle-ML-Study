{
 "cells": [
  {
   "cell_type": "markdown",
   "metadata": {},
   "source": [
    "# 회귀 평가지표 : 실제 값과 예측 값의 차이를 기반으로 함\n",
    "> #### MAE, MSE, RMSE, MSLE, RMSLE : 값이 작을수록 회귀 성능이 좋음\n",
    "> #### R^2 : 값이 클수록 성능이 좋음"
   ]
  },
  {
   "cell_type": "markdown",
   "metadata": {},
   "source": [
    "## 1. MAE : Mean Absolute Error\n",
    "실제값과 예측값의 차이를 절댓값으로 반환해 평균한 것\n",
    "\n",
    "## 2. MSE : Mean Squared Error\n",
    "실제값과 예측값의 차이를 제곱해 평균한 것\n",
    "\n",
    "## 3. RMSE : Root Mean Squared Error\n",
    "MSE 값이 제곱으로 인해 실제 오류 평균보다 더 커지는 특성이 있어 여기에 루트를 씌움\n",
    "\n",
    "## 4. MSLE : Mean Squared Log Error\n",
    "MSE에 로그를 적용해준 지표\n",
    "\n",
    "## 5. RMSLE : Root Mean Squared Log Error\n",
    "RMSE에 로그를 적용\n"
   ]
  },
  {
   "cell_type": "markdown",
   "metadata": {},
   "source": [
    "# RMSE vs RMSLE\n",
    "\n",
    "## RMSLE : Outlier에 Robust함 (강건함)\n",
    "    - 예측값 = 67, 78, 91, 실제값 = 60, 80, 90일 때\n",
    "        - RMSE : 4.242    RMSLE : 0.6466\n",
    "    \n",
    "    - 예측값 = 67, 78, 91, 102, 실제값 = 60, 80, 90, 750일 때\n",
    "        - RMSE : 374.724   RMSLE : 1.160\n",
    "## 상대적 Error를 측정\n",
    "    - log(x+1) - log(y-1) = log(x+1) / log(y+1)\n",
    "    - 예측값 = 100, 실제값 = 90일 때\n",
    "        - RMSLE = 0.1053, RMSE = 10\n",
    "    - 예측값 = 100, 실제값 = 90일 때\n",
    "        - RMSLE = 0.1053, RMSE = 1000\n",
    "    - RMSLE는 상대적 크기가 동일하다면 동일함\n",
    "    \n",
    "    - log(x+1) -> y=0일 때, log(y)는 마이너스 무한대이므로 이를 보정해주기 위해 +1을 한 것\n",
    "    \n",
    "## Under Estimation에 큰 패널티를 부여\n",
    "    - 예측값 = 600, 실제값 = 1,000일 때\n",
    "        - RMSE = 400, RMSLE = 0.510\n",
    "    - 예측값 = 1,400, 실제값 = 1,000일 때\n",
    "        - RMSE = 400, RMSLE = 0.33\n",
    "    \n",
    "    - 예측값과 실제값의 차이는 둘 다 400\n",
    "    \n",
    "    - Over Estimation이든 Under Estimation이든 RMSE값은 동일\n",
    "    - RMSLE는 Under Estimation일 때 (즉, 예측값이 실제값보다 작을 때) 더 높은 페널티\n",
    "    \n",
    "    \n",
    "    - 배달 음식 배달시간 평가 시를 생각\n",
    "        - 30분 예정이었는데 20분 도착은 문제 없지만, 40분 도착은 불만이 생길 수 있음\n",
    "        \n",
    "\n"
   ]
  },
  {
   "cell_type": "code",
   "execution_count": null,
   "metadata": {},
   "outputs": [],
   "source": []
  }
 ],
 "metadata": {
  "kernelspec": {
   "display_name": "Python 3",
   "language": "python",
   "name": "python3"
  },
  "language_info": {
   "codemirror_mode": {
    "name": "ipython",
    "version": 3
   },
   "file_extension": ".py",
   "mimetype": "text/x-python",
   "name": "python",
   "nbconvert_exporter": "python",
   "pygments_lexer": "ipython3",
   "version": "3.7.3"
  }
 },
 "nbformat": 4,
 "nbformat_minor": 4
}
